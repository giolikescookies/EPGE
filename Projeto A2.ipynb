{
 "cells": [
  {
   "cell_type": "markdown",
   "metadata": {},
   "source": [
    "#  EPGE / Computação [Projeto A2](https://giolikescookies.gitbook.io/jupyter/) [ Giovanna Maciel & Mateus Saldanha ]"
   ]
  },
  {
   "cell_type": "markdown",
   "metadata": {},
   "source": [
    "#### O presente programa se pretende a analisar os dados do World Bank Research Group 'Income Share held by x % of Population by Country' de 2017."
   ]
  },
  {
   "cell_type": "markdown",
   "metadata": {},
   "source": [
    "> Índice de Gini / Fórmula, Lógica etc.\n",
    "\n",
    "> Distribuição do PIB entre os Habitantes | PIB per Capita\n",
    "\n",
    "> Distribuição da Renda entre os Habitantes | Desigualdade\n",
    "\n",
    "> Comparação América do Sul | Mundo"
   ]
  },
  {
   "cell_type": "markdown",
   "metadata": {},
   "source": [
    "## Frameworks"
   ]
  },
  {
   "cell_type": "code",
   "execution_count": 1,
   "metadata": {},
   "outputs": [],
   "source": [
    "from pylab import *"
   ]
  },
  {
   "cell_type": "code",
   "execution_count": 21,
   "metadata": {},
   "outputs": [],
   "source": [
    "import numpy as np #Álgebra Linear"
   ]
  },
  {
   "cell_type": "code",
   "execution_count": 22,
   "metadata": {},
   "outputs": [],
   "source": [
    "import pandas as pd #Processamento de Dados / CSV"
   ]
  },
  {
   "cell_type": "code",
   "execution_count": 23,
   "metadata": {},
   "outputs": [],
   "source": [
    "import matplotlib.pyplot as plt\n",
    "\n",
    "#Visualização dos gráficos dentro do Jupyter.\n",
    "%matplotlib inline"
   ]
  },
  {
   "cell_type": "code",
   "execution_count": 24,
   "metadata": {},
   "outputs": [],
   "source": [
    "import seaborn as sns\n",
    "\n",
    "sns.set()"
   ]
  },
  {
   "cell_type": "code",
   "execution_count": 2,
   "metadata": {
    "collapsed": false,
    "jupyter": {
     "outputs_hidden": false
    }
   },
   "outputs": [],
   "source": [
    "URL = 'https://raw.githubusercontent.com/giolikescookies/data/master/drug-use-by-age/drug-use-by-age.csv'\n",
    "\n",
    "#df = pd.read_csv(URL)"
   ]
  },
  {
   "cell_type": "markdown",
   "metadata": {},
   "source": [
    "### Gini Index"
   ]
  },
  {
   "cell_type": "markdown",
   "metadata": {},
   "source": [
    "##### O Índice de Gini, é um instrumento para medir o grau de concentração de renda em determinado grupo.Ele aponta a diferença entre os rendimentos dos mais pobres e dos mais ricos. Numericamente, varia de zero a um (alguns apresentam de zero a cem). O valor zero representa a situação de igualdade, ou seja, todos têm a mesma renda. O valor um (ou cem) está no extremo oposto, isto é, uma só pessoa detém toda a riqueza.\n",
    "\n",
    "##### O coeficiente de Gini se calcula como uma razão das áreas no diagrama da curva de Lorenz. Se a área entre a linha de perfeita igualdade e a curva de Lorenz é A, e a área abaixo da curva de Lorenz é B, então o coeficiente de Gini é $ A/(A+B) $. Esta razão se expressa como percentagem ou como equivalente numérico dessa percentagem, que é sempre um número entre 0 e 1. O coeficiente de Gini pode ser calculado com a Fórmula de Brown, que é mais prática:\n",
    "\n",
    "> G = coeficiente de Gini\n",
    "\n",
    "> X = proporção acumulada da variável \"população\"\n",
    "\n",
    "> Y = proporção acumulada da variável \"renda\"\n",
    "\n",
    "$ G = 1 - (X^k - X^(k+1) * (Y^k - Y^(k+1) $\n",
    "\n",
    "> Série Histórica e Evolução do Índice de Gini nos países da América do Sul\n"
   ]
  },
  {
   "cell_type": "markdown",
   "metadata": {},
   "source": [
    "### Data"
   ]
  },
  {
   "cell_type": "code",
   "execution_count": null,
   "metadata": {},
   "outputs": [],
   "source": [
    "A = \n",
    "\n",
    "B = \n",
    "\n",
    "C =\n",
    "\n",
    "D = \n",
    "\n",
    "E = "
   ]
  },
  {
   "cell_type": "code",
   "execution_count": 29,
   "metadata": {
    "collapsed": false,
    "jupyter": {
     "outputs_hidden": false
    }
   },
   "outputs": [],
   "source": [
    "def Gini(A,B,C,D,E):\n",
    "    \n",
    "    #Qx = Score/Área Geométrica do Grupo\n",
    "    #x = Porcentagem da Renda Detida pelo Grupo\n",
    "    #0.2 = Porcentagem do Grupo em Relação à População Total (Grupos de 1/5)\n",
    "    \n",
    "    #Grupo A – 20% mais ricos\n",
    "    QA = A * (0.2 + 2 * 0)\n",
    "    \n",
    "    #Grupo B – segundo 20% mais ricos\n",
    "    QB = B * (0.2 + 2 * 0.2)\n",
    "    \n",
    "    #Grupo C – 'middle' 20%\n",
    "    QC = C * (0.2 + 2 * 0.4)\n",
    "    \n",
    "    #Grupo D – segundo 20% mais pobres\n",
    "    QD = D * (0.2 + 2 * 0.6)\n",
    "    \n",
    "    #Grupo E – 20% mais pobres\n",
    "    QE = E * (0.2 + 2 * 0.8)\n",
    "    \n",
    "    #Pontuação Total\n",
    "    Q = QA + QB + QC + QD + QE\n",
    "    \n",
    "    E = A + B + C + D + E\n",
    "    \n",
    "    GiniIndex = 1 - Q\n",
    "    \n",
    "    #Correção de Valor\n",
    "    if GiniIndex < 0:\n",
    "        return -GiniIndex\n",
    "    \n",
    "    #GiniIndex = 0 Igual | GiniIndex = 1 Desigual\n",
    "    return GiniIndex"
   ]
  },
  {
   "cell_type": "code",
   "execution_count": null,
   "metadata": {},
   "outputs": [],
   "source": [
    "def DesvioPadrão():\n",
    "    \n",
    "    DA = (A / E) - 20/100\n",
    "    \n",
    "    DB = ()\n",
    "D1 = E1 / EE - A1 / EA\n",
    "\n",
    "E1 - RENDA DO GRUPO\n",
    "EE - RENDA TOTAL DOS GRUPOS\n",
    "A1 - N MEMBROS DO GRUPO\n",
    "EA - POPULACAO \n",
    "\n",
    "GINI = (2*RENDA ACUMULADA - RENDA DO GRUPO) * POPULACAO\n",
    "\n",
    "RENDA ACUMULADA "
   ]
  },
  {
   "cell_type": "markdown",
   "metadata": {},
   "source": [
    "### Gráfico Gini"
   ]
  },
  {
   "cell_type": "code",
   "execution_count": 26,
   "metadata": {},
   "outputs": [
    {
     "data": {
      "text/plain": [
       "0.9800000000000002"
      ]
     },
     "execution_count": 26,
     "metadata": {},
     "output_type": "execute_result"
    }
   ],
   "source": [
    "Gini(0.4,0.2,0.2,0.1,0.8)"
   ]
  },
  {
   "cell_type": "code",
   "execution_count": 48,
   "metadata": {},
   "outputs": [
    {
     "data": {
      "text/plain": [
       "0.5688222996515679"
      ]
     },
     "execution_count": 48,
     "metadata": {},
     "output_type": "execute_result"
    },
    {
     "data": {
      "image/png": "[encoded data removed]",
      "text/plain": [
       "<Figure size 432x432 with 1 Axes>"
      ]
     },
     "metadata": {},
     "output_type": "display_data"
    }
   ],
   "source": [
    "X = np.append(np.random.poisson(lam=10, size=40), \n",
    "              np.random.poisson(lam=100, size=10))\n",
    "\n",
    "\n",
    "array = ([0.04,0.02,0.02,0.1,0.8])\n",
    "\n",
    "#array = ([ 11,  11,  13,  10,  17,  14,  14,   9,   8,  11,   4,  13,  12,\n",
    "         #9,  14,  11,  10,  11,  13,  17,  14,   6,  10,   8,  13,  14,\n",
    "        #13,   5,  22,   8,  13,  10,  11,  14,   6,   6,  11,  10,   6,\n",
    "         #7, 103,  86,  99,  94,  99,  95,  91,  95,  88,  79])\n",
    "\n",
    "def gini(arr):\n",
    "    ## first sort\n",
    "    sorted_arr = arr.copy()\n",
    "    sorted_arr.sort()\n",
    "    n = arr.size\n",
    "    coef_ = 2. / n\n",
    "    const_ = (n + 1.) / n\n",
    "    weighted_sum = sum([(i+1)*yi for i, yi in enumerate(sorted_arr)])\n",
    "    return coef_*weighted_sum/(sorted_arr.sum()) - const_\n",
    "\n",
    "X_lorenz = X.cumsum() / X.sum()\n",
    "X_lorenz = np.insert(X_lorenz, 0, 0)\n",
    "X_lorenz[0], X_lorenz[-1]\n",
    "\n",
    "fig, ax = plt.subplots(figsize=[6,6])\n",
    "\n",
    "## scatter plot of Lorenz curve\n",
    "ax.scatter(np.arange(X_lorenz.size)/(X_lorenz.size-1), X_lorenz, \n",
    "           marker='x', color='pink', s=100)\n",
    "\n",
    "## Curva de Desigualdade\n",
    "ax.plot([0,1], [0,1], color='k')\n",
    "\n",
    "def lorenz_curve(X):\n",
    "    X_lorenz = X.cumsum() / X.sum()\n",
    "    X_lorenz = np.insert(X_lorenz, 0, 0) \n",
    "    X_lorenz[0], X_lorenz[-1]\n",
    "    fig, ax = plt.subplots(figsize=[6,6])\n",
    "    ## scatter plot of Lorenz curve\n",
    "    ax.scatter(np.arange(X_lorenz.size)/(X_lorenz.size-1), X_lorenz, \n",
    "               marker='x', color='red', s=100)\n",
    "    ## line plot of equality\n",
    "    ax.plot([0,1], [0,1], color='k')\n",
    "    \n",
    "\n",
    "X = np.append(np.random.poisson(lam=10, size=40), \n",
    "              np.random.poisson(lam=100, size=10))\n",
    "\n",
    "gini(X)"
   ]
  },
  {
   "cell_type": "code",
   "execution_count": 50,
   "metadata": {},
   "outputs": [
    {
     "name": "stdout",
     "output_type": "stream",
     "text": [
      "0.6766666666666667\n"
     ]
    },
    {
     "data": {
      "image/png": "[encoded data removed]",
      "text/plain": [
       "<Figure size 432x288 with 1 Axes>"
      ]
     },
     "metadata": {},
     "output_type": "display_data"
    }
   ],
   "source": [
    "# ensure your arr is sorted from lowest to highest values first!\n",
    "arr = np.array([1,4,6,9,100])\n",
    "\n",
    "def gini(arr):\n",
    "    count = arr.size\n",
    "    coefficient = 2 / count\n",
    "    indexes = np.arange(1, count + 1)\n",
    "    weighted_sum = (indexes * arr).sum()\n",
    "    total = arr.sum()\n",
    "    constant = (count + 1) / count\n",
    "    return coefficient * weighted_sum / total - constant\n",
    "\n",
    "def lorenz(arr):\n",
    "    # this divides the prefix sum by the total sum\n",
    "    # this ensures all the values are between 0 and 1.0\n",
    "    scaled_prefix_sum = arr.cumsum() / arr.sum()\n",
    "    # this prepends the 0 value (because 0% of all people have 0% of all wealth)\n",
    "    return np.insert(scaled_prefix_sum, 0, 0)\n",
    "\n",
    "# show the gini index!\n",
    "print(gini(arr))\n",
    "\n",
    "lorenz_curve = lorenz(arr)\n",
    "\n",
    "# we need the X values to be between 0.0 to 1.0\n",
    "plt.plot(np.linspace(0.0, 1.0, lorenz_curve.size), lorenz_curve)\n",
    "# plot the straight line perfect equality curve\n",
    "plt.plot([0,1], [0,1])\n",
    "plt.show()"
   ]
  },
  {
   "cell_type": "code",
   "execution_count": 58,
   "metadata": {},
   "outputs": [
    {
     "name": "stderr",
     "output_type": "stream",
     "text": [
      "/opt/anaconda3/lib/python3.7/site-packages/ipykernel_launcher.py:8: FutureWarning: outer method for ufunc <ufunc 'subtract'> is not implemented on pandas objects. Returning an ndarray, but in the future this will raise a 'NotImplementedError'. Consider explicitly converting the Series to an array with '.array' first.\n",
      "  \n"
     ]
    },
    {
     "data": {
      "image/png": "[encoded data removed]",
      "text/plain": [
       "<Figure size 432x288 with 1 Axes>"
      ]
     },
     "metadata": {},
     "output_type": "display_data"
    }
   ],
   "source": [
    "import numpy as np\n",
    "import pandas as pd\n",
    "import matplotlib.pyplot as plt\n",
    "\n",
    "\n",
    "def gini(x):\n",
    "    # Mean absolute difference\n",
    "    mad = np.abs(np.subtract.outer(x, x)).mean()\n",
    "    # Relative mean absolute difference\n",
    "    rmad = mad / np.mean(x)\n",
    "    # Gini coefficient\n",
    "    g = 0.5 * rmad\n",
    "    return g\n",
    "\n",
    "\n",
    "def lorenz(size, dist=\"normal\", **params):\n",
    "    if dist == \"normal\" and not params:\n",
    "        params = {\"loc\": 0, \"scale\": 1}\n",
    "    dist = getattr(np.random, dist)\n",
    "    x = pd.Series(dist(size=size, **params)).abs().sort_values()\n",
    "\n",
    "    g = gini(x)\n",
    "\n",
    "    s = \"; \".join([f\"{k}={v}\" for k, v in params.items()])\n",
    "    plt.plot(\n",
    "        x.rank() / x.shape[0], x.cumsum() / x.sum(),\n",
    "        label=f\"{dist.__name__}\\nParams: {s}\\nGini: {g:.2f}\")\n",
    "    #plt.legend()\n",
    "\n",
    "\n",
    "n = 1000\n",
    "lorenz(n)\n",
    "#lorenz(n, loc=1, scale=1)\n",
    "#lorenz(n, loc=20, scale=1)\n",
    "lorenz(n, loc=1, scale=0.1)\n",
    "#lorenz(n, dist=\"uniform\")\n",
    "#lorenz(n, dist=\"poisson\", lam=5)\n",
    "#lorenz(n, dist=\"poisson\", lam=10)\n",
    "#lorenz(n, dist=\"negative_binomial\", n=10, p=0.1)\n",
    "#lorenz(n, dist=\"negative_binomial\", n=10, p=0.5)"
   ]
  },
  {
   "cell_type": "code",
   "execution_count": 59,
   "metadata": {},
   "outputs": [],
   "source": [
    "\n",
    "\n",
    "# Simple implementation of the (normalized) gini score in numpy\n",
    "# Fully vectorized, no python loops, zips, etc.\n",
    "# Significantly (>30x) faster than previous implementions\n",
    "\n",
    "import numpy as np \n",
    "\n",
    "def Gini(y_true, y_pred):\n",
    "    # check and get number of samples\n",
    "    assert y_true.shape == y_pred.shape\n",
    "    n_samples = y_true.shape[0]\n",
    "    \n",
    "    # sort rows on prediction column \n",
    "    # (from largest to smallest)\n",
    "    arr = np.array([y_true, y_pred]).transpose()\n",
    "    true_order = arr[arr[:,0].argsort()][::-1,0]\n",
    "    pred_order = arr[arr[:,1].argsort()][::-1,0]\n",
    "    \n",
    "    # get Lorenz curves\n",
    "    L_true = np.cumsum(true_order) / np.sum(true_order)\n",
    "    L_pred = np.cumsum(pred_order) / np.sum(pred_order)\n",
    "    L_ones = np.linspace(1/n_samples, 1, n_samples)\n",
    "    \n",
    "    # get Gini coefficients (area between curves)\n",
    "    G_true = np.sum(L_ones - L_true)\n",
    "    G_pred = np.sum(L_ones - L_pred)\n",
    "    \n",
    "    # normalize to true Gini coefficient\n",
    "    return G_pred/G_true"
   ]
  },
  {
   "cell_type": "code",
   "execution_count": null,
   "metadata": {},
   "outputs": [],
   "source": []
  }
 ],
 "metadata": {
  "kernelspec": {
   "display_name": "Python 3",
   "language": "python",
   "name": "python3"
  },
  "language_info": {
   "codemirror_mode": {
    "name": "ipython",
    "version": 3
   },
   "file_extension": ".py",
   "mimetype": "text/x-python",
   "name": "python",
   "nbconvert_exporter": "python",
   "pygments_lexer": "ipython3",
   "version": "3.7.4"
  }
 },
 "nbformat": 4,
 "nbformat_minor": 4
}
